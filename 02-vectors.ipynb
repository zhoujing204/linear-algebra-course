{
 "cells": [
  {
   "cell_type": "markdown",
   "metadata": {},
   "source": [
    "# 实验2-向量"
   ]
  },
  {
   "cell_type": "markdown",
   "metadata": {},
   "source": [
    "## 大纲"
   ]
  },
  {
   "cell_type": "markdown",
   "metadata": {},
   "source": [
    "   - [创建向量](#创建向量)\n",
    "   - [向量可视化](#向量可视化)\n",
    "   - 向量的数乘\n",
    "   - [向量的加法和减法](#向量的加法和减法)\n",
    "   - 单位向量\n",
    "   - 线性组合的概念\n",
    "   - 向量的点积\n",
    "   - 向量的转置\n",
    "   - 向量的长度\n",
    "   - [向量的线性无关与线性相关](#向量的线性无关与线性相关)"
   ]
  },
  {
   "cell_type": "markdown",
   "metadata": {},
   "source": [
    "## 创建向量"
   ]
  },
  {
   "cell_type": "markdown",
   "metadata": {},
   "source": [
    "### 标量和向量"
   ]
  },
  {
   "cell_type": "markdown",
   "metadata": {},
   "source": [
    "标量就是一个简单的数，例如：$weight = 3$，$speed = 5$，$price = 7.5$。"
   ]
  },
  {
   "cell_type": "code",
   "execution_count": 4,
   "metadata": {},
   "outputs": [
    {
     "name": "stdout",
     "output_type": "stream",
     "text": [
      "weight: 3, speed: 5, price: 7.5\n"
     ]
    }
   ],
   "source": [
    "weight = 3\n",
    "speed = 5\n",
    "price = 7.5\n",
    "\n",
    "# 这些数值都是标量\n",
    "print(f'weight: {weight}, speed: {speed}, price: {price}')"
   ]
  },
  {
   "cell_type": "markdown",
   "metadata": {},
   "source": [
    "向量是一系列的有顺序的数，例如：$v = [1, 2, 3, 4]$，$w = [2, 4, 6, 8]$。在Python中，Numpy库是最常见的用来处理向量的库。"
   ]
  },
  {
   "cell_type": "code",
   "execution_count": 5,
   "metadata": {},
   "outputs": [
    {
     "name": "stdout",
     "output_type": "stream",
     "text": [
      "Requirement already satisfied: numpy in c:\\python312\\lib\\site-packages (1.26.1)Note: you may need to restart the kernel to use updated packages.\n",
      "\n"
     ]
    }
   ],
   "source": [
    "# 安装numpy\n",
    "%pip install numpy"
   ]
  },
  {
   "cell_type": "code",
   "execution_count": 6,
   "metadata": {},
   "outputs": [
    {
     "name": "stdout",
     "output_type": "stream",
     "text": [
      "vector1: [1 2 3 4]\n",
      "vector2: [5 6 7 8]\n"
     ]
    }
   ],
   "source": [
    "# 导入numpy\n",
    "import numpy as np\n",
    "\n",
    "# 创建numpy向量\n",
    "vector1 = np.array([1, 2, 3, 4])\n",
    "vector2 = np.array([5, 6, 7, 8])\n",
    "\n",
    "# 打印向量\n",
    "print(f'vector1: {vector1}')\n",
    "print(f'vector2: {vector2}')"
   ]
  },
  {
   "cell_type": "code",
   "execution_count": 7,
   "metadata": {},
   "outputs": [
    {
     "name": "stdout",
     "output_type": "stream",
     "text": [
      "car1: [3.  5.  7.5]\n"
     ]
    }
   ],
   "source": [
    "# 将标量放入到numpy向量中\n",
    "weight = 3\n",
    "speed = 5\n",
    "price = 7.5\n",
    "car1 = np.array([weight, speed, price])\n",
    "print(f'car1: {car1}')"
   ]
  },
  {
   "cell_type": "code",
   "execution_count": 14,
   "metadata": {},
   "outputs": [
    {
     "name": "stdout",
     "output_type": "stream",
     "text": [
      "True\n",
      "False\n"
     ]
    }
   ],
   "source": [
    "# 向量中数的顺序很重要，即使数值相同，顺序不同也会导致向量不相等\n",
    "\n",
    "import numpy as np\n",
    "\n",
    "# 创建两个示例向量\n",
    "vector1 = np.array([1, 2, 3, 4])\n",
    "vector2 = np.array([1, 2, 3, 4])\n",
    "vector3 = np.array([2, 1, 3, 4])\n",
    "\n",
    "# 判断两个向量是否完全相等\n",
    "print(np.array_equal(vector1, vector2))  # 输出: True\n",
    "print(np.array_equal(vector1, vector3))  # 输出: False"
   ]
  },
  {
   "cell_type": "markdown",
   "metadata": {},
   "source": [
    "### 练习2.1"
   ]
  },
  {
   "cell_type": "markdown",
   "metadata": {},
   "source": [
    "使用numpy创建一个包含5个奇数的向量,并打印出来。"
   ]
  },
  {
   "cell_type": "code",
   "execution_count": null,
   "metadata": {},
   "outputs": [],
   "source": []
  },
  {
   "cell_type": "markdown",
   "metadata": {},
   "source": [
    "### 练习2.2"
   ]
  },
  {
   "cell_type": "markdown",
   "metadata": {},
   "source": [
    "使用numpy再创建一个和练习2.1中完全一样的向量，比较这两个向量是否相等，并打印比较结果。然后再打乱数的顺序，创建第三个向量，再比较向量是否相等，并打印比较结果。"
   ]
  },
  {
   "cell_type": "code",
   "execution_count": null,
   "metadata": {},
   "outputs": [],
   "source": []
  },
  {
   "cell_type": "markdown",
   "metadata": {},
   "source": [
    "numpy有一些方法可以用来非常方便地创建向量"
   ]
  },
  {
   "cell_type": "code",
   "execution_count": 24,
   "metadata": {},
   "outputs": [
    {
     "name": "stdout",
     "output_type": "stream",
     "text": [
      "zero_vector: [0. 0. 0. 0. 0.]\n",
      "one_vector: [1. 1. 1. 1. 1.]\n",
      "five_vector: [5 5 5]\n",
      "range_vector: [10 11 12 13 14 15 16 17 18 19 20]\n",
      "even_vector: [10 12 14 16 18 20]\n",
      "reversed_even_vector: [20 18 16 14 12 10]\n",
      "random_vector: [0.79898178 0.92198294 0.28170286 0.95456012 0.68023334]\n"
     ]
    }
   ],
   "source": [
    "import numpy as np\n",
    "\n",
    "# 创建全是0的向量\n",
    "zero_vector = np.zeros(5)\n",
    "print(f'zero_vector: {zero_vector}')\n",
    "\n",
    "# 创建全是1的向量\n",
    "one_vector = np.ones(5)\n",
    "print(f'one_vector: {one_vector}')\n",
    "\n",
    "# 创建全是5的向量(长度为3)\n",
    "five_vector = np.full(3, 5)\n",
    "print(f'five_vector: {five_vector}')\n",
    "\n",
    "# 创建一个向量，包含10到20之间的所有整数\n",
    "range_vector = np.arange(10, 21)\n",
    "print(f'range_vector: {range_vector}')\n",
    "\n",
    "# 创建一个向量，包含10到20之间的所有偶数\n",
    "even_vector = np.arange(10, 21, 2)\n",
    "print(f'even_vector: {even_vector}')\n",
    "\n",
    "# 创建一个向量，包含10到20之间的所有偶数，但是逆序\n",
    "reversed_even_vector = np.arange(20, 9, -2)\n",
    "print(f'reversed_even_vector: {reversed_even_vector}')\n",
    "\n",
    "# 创建包含随机数的向量，数值范围在0到1之间，长度为5\n",
    "random_vector = np.random.random(5)\n",
    "print(f'random_vector: {random_vector}')"
   ]
  },
  {
   "cell_type": "markdown",
   "metadata": {},
   "source": [
    "### 练习2.3"
   ]
  },
  {
   "cell_type": "markdown",
   "metadata": {},
   "source": [
    "使用numpy创建\n",
    "- 一个包含4个0的向量\n",
    "- 一个包含4个1的向量\n",
    "- 一个包含4个2的向量\n",
    "- 创建一个包含4个随机数的向量\n",
    "- 创建一个包含20以内的3的倍数的整数的向量\n",
    "- 创建一个包含20以内的3的倍数的整数的向量，从大到小排列"
   ]
  },
  {
   "cell_type": "code",
   "execution_count": null,
   "metadata": {},
   "outputs": [],
   "source": []
  },
  {
   "cell_type": "markdown",
   "metadata": {},
   "source": [
    "## 向量可视化"
   ]
  },
  {
   "cell_type": "markdown",
   "metadata": {},
   "source": [
    "Python中有很多库可以用来可视化数据，比如matplotlib库。"
   ]
  },
  {
   "cell_type": "code",
   "execution_count": null,
   "metadata": {},
   "outputs": [],
   "source": [
    "# 安装matplotlib\n",
    "%pip install matplotlib"
   ]
  },
  {
   "cell_type": "code",
   "execution_count": 30,
   "metadata": {},
   "outputs": [
    {
     "data": {
      "image/png": "[encoded data removed]",
      "text/plain": [
       "<Figure size 640x480 with 1 Axes>"
      ]
     },
     "metadata": {},
     "output_type": "display_data"
    }
   ],
   "source": [
    "import numpy as np\n",
    "import matplotlib.pyplot as plt\n",
    "\n",
    "# 定义向量\n",
    "v1 = np.array([1, 2])\n",
    "v2 = np.array([3, 4])\n",
    "\n",
    "# 创建一个新的绘图\n",
    "fig, ax = plt.subplots()\n",
    "\n",
    "# 绘制向量 v1 和 v2\n",
    "# quilt() 函数用于绘制向量(用箭头来表示)，参数含义如下：\n",
    "# 0, 0 表示向量的起点在原点\n",
    "# v1[0], v1[1] 表示向量的终点坐标\n",
    "# angles='xy' 表示向量的起点在原点\n",
    "# scale_units='xy' 表示向量的长度和方向由向量本身决定\n",
    "# scale=1 表示向量的单位长度为1\n",
    "# color='r' 表示向量的颜色为红色， color='b' 表示向量的颜色为蓝色\n",
    "# label 表示向量的标签\n",
    "ax.quiver(0, 0, v1[0], v1[1], angles='xy', scale_units='xy', \n",
    "            scale=1, color='r', label='v1 = [1, 2]')\n",
    "ax.quiver(0, 0, v2[0], v2[1], angles='xy', scale_units='xy', \n",
    "            scale=1, color='b', label='v2 = [3, 4]')\n",
    "\n",
    "# 设置坐标轴范围\n",
    "ax.set_xlim(0, 5)\n",
    "ax.set_ylim(0, 5)\n",
    "\n",
    "ax.grid(True)   # 显示网格\n",
    "ax.set_aspect('equal')   # 设置坐标轴比例相等\n",
    "plt.legend()     # 显示图例\n",
    "plt.xlabel('X-axis') # 设置X轴标签\n",
    "plt.ylabel('Y-axis') # 设置Y轴标签\n",
    "plt.title('Vectors Visualization')  # 设置标题\n",
    "\n",
    "# 显示图形\n",
    "plt.show()"
   ]
  },
  {
   "cell_type": "markdown",
   "metadata": {},
   "source": [
    "### 练习2.4"
   ]
  },
  {
   "cell_type": "markdown",
   "metadata": {},
   "source": [
    "使用 Matplotlib 库可视化两个二维向量。\n",
    "\n",
    "- 创建两个 NumPy 向量 v1 和 v2，它们的元素分别是 [-2, 3] 和 [4, -1]。\n",
    "- 使用 Matplotlib 库绘制这两个向量，从原点 (0, 0) 出发。\n",
    "- 向量 v1 使用红色箭头表示，向量 v2 使用蓝色箭头表示。\n",
    "- 设置适当的坐标轴范围，使得向量完全显示在图形中。\n",
    "- 为图形添加网格、图例、坐标轴标签和标题。"
   ]
  },
  {
   "cell_type": "code",
   "execution_count": null,
   "metadata": {},
   "outputs": [],
   "source": []
  },
  {
   "cell_type": "markdown",
   "metadata": {},
   "source": [
    "## 向量的数乘"
   ]
  },
  {
   "cell_type": "markdown",
   "metadata": {},
   "source": [
    "向量的数乘是指一个向量乘以一个标量，结果是一个新的向量。数乘的规则是向量中的每个元素都乘以这个标量。"
   ]
  },
  {
   "cell_type": "code",
   "execution_count": 11,
   "metadata": {},
   "outputs": [
    {
     "data": {
      "text/plain": [
       "array([2, 4])"
      ]
     },
     "execution_count": 11,
     "metadata": {},
     "output_type": "execute_result"
    }
   ],
   "source": [
    "import numpy as np\n",
    "v1 = np.array([1, 2])\n",
    "s1 = 2\n",
    "\n",
    "v1 * s1"
   ]
  },
  {
   "cell_type": "code",
   "execution_count": 12,
   "metadata": {},
   "outputs": [
    {
     "data": {
      "text/plain": [
       "array([-1, -2])"
      ]
     },
     "execution_count": 12,
     "metadata": {},
     "output_type": "execute_result"
    }
   ],
   "source": [
    "v1 * -1"
   ]
  },
  {
   "cell_type": "markdown",
   "metadata": {},
   "source": [
    "向量乘以标量的可视化"
   ]
  },
  {
   "cell_type": "code",
   "execution_count": 29,
   "metadata": {},
   "outputs": [
    {
     "data": {
      "image/png": "[encoded data removed]",
      "text/plain": [
       "<Figure size 640x480 with 1 Axes>"
      ]
     },
     "metadata": {},
     "output_type": "display_data"
    }
   ],
   "source": [
    "import numpy as np\n",
    "import matplotlib.pyplot as plt\n",
    "\n",
    "v1 = np.array([1, 2])\n",
    "\n",
    "v2 = v1 * 2\n",
    "v3 = v1 * -1\n",
    "\n",
    "fig, ax = plt.subplots()\n",
    "\n",
    "plt.quiver(0, 0, v1[0], v1[1], angles='xy', scale_units='xy', scale=1, \n",
    "            color='r', label='v1')\n",
    "\n",
    "plt.quiver(0, 0,v2[0], v2[1], angles='xy', scale_units='xy', scale=1,\n",
    "           color='b', label='v1 * 2', alpha = 0.3)\n",
    "\n",
    "plt.quiver(0, 0, v3[0], v3[1], angles='xy', scale_units='xy', scale=1, \n",
    "            color='g', label='- v1', alpha = 0.6)\n",
    "\n",
    "plt.scatter(0, 0, color='k', s=50, zorder=5)\n",
    "\n",
    "plt.xlim(-3, 6)\n",
    "plt.ylim(-3, 6)\n",
    "plt.grid(True)\n",
    "plt.legend()\n",
    "\n",
    "plt.gca().set_aspect('equal', adjustable='box')\n",
    "\n",
    "plt.show()"
   ]
  },
  {
   "cell_type": "markdown",
   "metadata": {},
   "source": [
    "### 练习2.5"
   ]
  },
  {
   "cell_type": "markdown",
   "metadata": {},
   "source": [
    "思考下面的问题:\n",
    "\n",
    "1. 任意一个向量乘以 0 的结果是什么？\n",
    "2. 任意一个向量乘以 1 的结果是什么？\n",
    "3. 任意一个向量乘以 -1 的结果是什么？\n",
    "4. 一个向量v先乘以一个标量a，再乘以一个标量b，等于向量v乘以标量a*b吗？下面这些等式都成立吗？（注意： 使用`np.array_equal(vector1, vector2)`来判断两个向量是否相等。）\n",
    "   -  $ v * a * b = v * (a * b) $ \n",
    "   -  $ v * a * b = v * b * a $\n",
    "5. 使用代码验证你的答案。   "
   ]
  },
  {
   "cell_type": "markdown",
   "metadata": {},
   "source": [
    "## 向量的加法和减法"
   ]
  },
  {
   "cell_type": "markdown",
   "metadata": {},
   "source": [
    "相同长度的向量之间可以进行加法和减法运算"
   ]
  },
  {
   "cell_type": "code",
   "execution_count": 30,
   "metadata": {},
   "outputs": [
    {
     "data": {
      "text/plain": [
       "array([4, 6])"
      ]
     },
     "execution_count": 30,
     "metadata": {},
     "output_type": "execute_result"
    }
   ],
   "source": [
    "import numpy as np\n",
    "v1 = np.array([1, 2])\n",
    "v2 = np.array([3, 4])\n",
    "v1 + v2  "
   ]
  },
  {
   "cell_type": "code",
   "execution_count": 4,
   "metadata": {},
   "outputs": [
    {
     "data": {
      "text/plain": [
       "array([-2, -2])"
      ]
     },
     "execution_count": 4,
     "metadata": {},
     "output_type": "execute_result"
    }
   ],
   "source": [
    "v1 - v2"
   ]
  },
  {
   "cell_type": "markdown",
   "metadata": {},
   "source": [
    "如果将numpy向量加上一个标量，那么向量中的每个元素都加上这个标量。numpy这个向量的特性叫做广播。"
   ]
  },
  {
   "cell_type": "code",
   "execution_count": 31,
   "metadata": {},
   "outputs": [
    {
     "data": {
      "text/plain": [
       "array([3, 4])"
      ]
     },
     "execution_count": 31,
     "metadata": {},
     "output_type": "execute_result"
    }
   ],
   "source": [
    "v1 + 2"
   ]
  },
  {
   "cell_type": "markdown",
   "metadata": {},
   "source": [
    "不同长度的向量之间进行加法或者减法会抛出异常"
   ]
  },
  {
   "cell_type": "code",
   "execution_count": 5,
   "metadata": {},
   "outputs": [
    {
     "ename": "ValueError",
     "evalue": "operands could not be broadcast together with shapes (2,) (3,) ",
     "output_type": "error",
     "traceback": [
      "\u001b[1;31m---------------------------------------------------------------------------\u001b[0m",
      "\u001b[1;31mValueError\u001b[0m                                Traceback (most recent call last)",
      "Cell \u001b[1;32mIn[5], line 4\u001b[0m\n\u001b[0;32m      2\u001b[0m v1 \u001b[38;5;241m=\u001b[39m np\u001b[38;5;241m.\u001b[39marray([\u001b[38;5;241m1\u001b[39m, \u001b[38;5;241m2\u001b[39m])\n\u001b[0;32m      3\u001b[0m v2 \u001b[38;5;241m=\u001b[39m np\u001b[38;5;241m.\u001b[39marray([\u001b[38;5;241m3\u001b[39m, \u001b[38;5;241m4\u001b[39m, \u001b[38;5;241m5\u001b[39m])\n\u001b[1;32m----> 4\u001b[0m \u001b[43mv1\u001b[49m\u001b[43m \u001b[49m\u001b[38;5;241;43m+\u001b[39;49m\u001b[43m \u001b[49m\u001b[43mv2\u001b[49m\n",
      "\u001b[1;31mValueError\u001b[0m: operands could not be broadcast together with shapes (2,) (3,) "
     ]
    }
   ],
   "source": [
    "import numpy as np\n",
    "v1 = np.array([1, 2])\n",
    "v2 = np.array([3, 4, 5])\n",
    "v1 + v2"
   ]
  },
  {
   "cell_type": "markdown",
   "metadata": {},
   "source": [
    "向量加法的可视化"
   ]
  },
  {
   "cell_type": "code",
   "execution_count": 23,
   "metadata": {},
   "outputs": [
    {
     "data": {
      "image/png": "[encoded data removed]",
      "text/plain": [
       "<Figure size 640x480 with 1 Axes>"
      ]
     },
     "metadata": {},
     "output_type": "display_data"
    }
   ],
   "source": [
    "import numpy as np\n",
    "import matplotlib.pyplot as plt\n",
    "\n",
    "v1 = np.array([4, 1])\n",
    "v2 = np.array([1, 3])\n",
    "\n",
    "v3 = v1 + v2\n",
    "\n",
    "plt.figure()\n",
    "plt.quiver(0, 0, v1[0], v1[1], angles='xy', scale_units='xy', scale=1, color='r', label='v1')\n",
    "plt.quiver(v1[0], v1[1], v2[0], v2[1], angles='xy', scale_units='xy', scale=1, color='b', label='v2')\n",
    "plt.quiver(0, 0, v3[0], v3[1], angles='xy', scale_units='xy', scale=1, color='g', label='v1+v2')\n",
    "\n",
    "plt.xlim(0, 7)\n",
    "plt.ylim(0, 6)\n",
    "plt.grid(True)\n",
    "plt.legend()\n",
    "\n",
    "plt.gca().set_aspect('equal', adjustable='box')\n",
    "\n",
    "plt.show()"
   ]
  },
  {
   "cell_type": "markdown",
   "metadata": {},
   "source": [
    "向量的基本运算包括：\n",
    "\n",
    "- 向量的数乘\n",
    "- 向量的加法和减法\n",
    "- 以及这两种运算的结合"
   ]
  },
  {
   "cell_type": "markdown",
   "metadata": {},
   "source": [
    "### 练习2.6"
   ]
  },
  {
   "cell_type": "markdown",
   "metadata": {},
   "source": [
    "思考下面的问题：\n",
    "\n",
    "1. 向量的加法符合交换律吗？ $v + w = w + v$ 成立吗？（注意： 使用`np.array_equal(vector1, vector2)`来判断两个向量是否相等。）\n",
    "2. 向量的乘法符合结合分配律吗？ $a * (v + w) = a * v + a * w$ 成立吗？\n",
    "3. 向量的减法都可以转化为加法运算，即 $v - w = v + (-w)$，这个等式成立吗？\n",
    "4. 使用代码验证你的答案。"
   ]
  },
  {
   "cell_type": "code",
   "execution_count": null,
   "metadata": {},
   "outputs": [],
   "source": []
  },
  {
   "cell_type": "markdown",
   "metadata": {},
   "source": [
    "## 向量的长度与单位向量"
   ]
  },
  {
   "cell_type": "markdown",
   "metadata": {},
   "source": []
  },
  {
   "cell_type": "code",
   "execution_count": null,
   "metadata": {},
   "outputs": [],
   "source": []
  },
  {
   "cell_type": "markdown",
   "metadata": {},
   "source": [
    "## 向量的线性无关与线性相关"
   ]
  }
 ],
 "metadata": {
  "kernelspec": {
   "display_name": "Python 3 (ipykernel)",
   "language": "python",
   "name": "python3"
  },
  "language_info": {
   "codemirror_mode": {
    "name": "ipython",
    "version": 3
   },
   "file_extension": ".py",
   "mimetype": "text/x-python",
   "name": "python",
   "nbconvert_exporter": "python",
   "pygments_lexer": "ipython3",
   "version": "3.12.0"
  }
 },
 "nbformat": 4,
 "nbformat_minor": 2
}
