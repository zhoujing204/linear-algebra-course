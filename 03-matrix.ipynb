{
 "cells": [
  {
   "cell_type": "markdown",
   "metadata": {},
   "source": [
    "# 实验3: 矩阵"
   ]
  },
  {
   "cell_type": "markdown",
   "metadata": {},
   "source": [
    "## 大纲"
   ]
  },
  {
   "cell_type": "markdown",
   "metadata": {},
   "source": [
    "   - 创建矩阵\n",
    "   - 矩阵的加法和减法\n",
    "   - 矩阵的数乘\n",
    "   - 矩阵与向量的乘法\n",
    "   - 矩阵与矩阵的乘法\n",
    "   - 矩阵的转置\n",
    "   - 单位矩阵与逆矩阵\n",
    "   - 矩阵的维度（dimension）与秩（rank）\n",
    "   - 线性相关与线性无关\n",
    "   - 线性变换"
   ]
  },
  {
   "cell_type": "markdown",
   "metadata": {},
   "source": [
    "## 创建矩阵"
   ]
  },
  {
   "cell_type": "markdown",
   "metadata": {},
   "source": [
    "矩阵的定义： 矩阵是一个二维数组，其中的每一个元素被行索引和列索引来确定。例如，下面这个矩阵 $M$ 有三行和三列：\n",
    "\n",
    "$$\n",
    "M = \\begin{bmatrix}\n",
    "1 & 2 & 3 \\\\\n",
    "4 & 5 & 6 \\\\\n",
    "7 & 8 & 9\n",
    "\\end{bmatrix}\n",
    "$$"
   ]
  },
  {
   "cell_type": "markdown",
   "metadata": {},
   "source": [
    "**问题:** Jupyter Notebook 支持哪些编程语言的内核？\n",
    "\n",
    "- A) Python\n",
    "- B) R\n",
    "- C) Julia\n",
    "- D) 所有以上"
   ]
  },
  {
   "cell_type": "markdown",
   "metadata": {},
   "source": [
    "<html>\n",
    "<body>\n",
    "\n",
    "<form>\n",
    "  <input type=\"radio\" id=\"A\" name=\"language\" value=\"A\">\n",
    "  <label for=\"A\">A) Python</label><br>\n",
    "  \n",
    "  <input type=\"radio\" id=\"B\" name=\"language\" value=\"B\">\n",
    "  <label for=\"B\">B) R</label><br>\n",
    "  \n",
    "  <input type=\"radio\" id=\"C\" name=\"language\" value=\"C\">\n",
    "  <label for=\"C\">C) Julia</label><br>\n",
    "  \n",
    "  <input type=\"radio\" id=\"D\" name=\"language\" value=\"D\">\n",
    "  <label for=\"D\">D) 所有以上</label><br>\n",
    "</form>\n",
    "\n",
    "<button onclick=\"checkAnswer()\">提交</button>\n",
    "\n",
    "<script>\n",
    "function checkAnswer() {\n",
    "  var radios = document.getElementsByName('language');\n",
    "  var selectedValue;\n",
    "  for (var radio of radios) {\n",
    "    if (radio.checked) {\n",
    "      selectedValue = radio.value;\n",
    "      break;\n",
    "    }\n",
    "  }\n",
    "  \n",
    "  if (selectedValue === 'D') {\n",
    "    alert(\"正确！\");\n",
    "  } else {\n",
    "    alert(\"错误，正确答案是 D) 所有以上\");\n",
    "  }\n",
    "}\n",
    "</script>\n",
    "\n",
    "</body>\n",
    "</html>"
   ]
  },
  {
   "cell_type": "markdown",
   "metadata": {},
   "source": [
    "## 矩阵的加法和减法"
   ]
  },
  {
   "cell_type": "markdown",
   "metadata": {},
   "source": [
    "## 矩阵的数乘"
   ]
  },
  {
   "cell_type": "markdown",
   "metadata": {},
   "source": [
    "## 矩阵与向量的乘法"
   ]
  },
  {
   "cell_type": "markdown",
   "metadata": {},
   "source": [
    "## 矩阵与矩阵的乘法"
   ]
  },
  {
   "cell_type": "markdown",
   "metadata": {},
   "source": [
    "## 矩阵的转置"
   ]
  },
  {
   "cell_type": "markdown",
   "metadata": {},
   "source": [
    "## 单位矩阵与逆矩阵"
   ]
  },
  {
   "cell_type": "markdown",
   "metadata": {},
   "source": [
    "## 矩阵的维度（dimension）与秩（rank）"
   ]
  },
  {
   "cell_type": "markdown",
   "metadata": {},
   "source": [
    "## 线性相关与线性无关"
   ]
  },
  {
   "cell_type": "markdown",
   "metadata": {},
   "source": [
    "## 线性变换"
   ]
  }
 ],
 "metadata": {
  "language_info": {
   "name": "python"
  }
 },
 "nbformat": 4,
 "nbformat_minor": 2
}
