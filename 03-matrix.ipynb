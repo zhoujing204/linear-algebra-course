{
 "cells": [
  {
   "cell_type": "markdown",
   "metadata": {},
   "source": [
    "# 实验3: 矩阵"
   ]
  },
  {
   "cell_type": "markdown",
   "metadata": {},
   "source": [
    "## 大纲"
   ]
  },
  {
   "cell_type": "markdown",
   "metadata": {},
   "source": [
    "   - 创建矩阵\n",
    "   - 矩阵的加法和减法\n",
    "   - 矩阵的乘法\n",
    "   - 矩阵的转置\n",
    "   - 单位矩阵与逆矩阵\n",
    "   - 矩阵的维度（dimension）与秩（rank）\n",
    "   - 线性相关与线性无关\n",
    "   - 线性变换"
   ]
  },
  {
   "cell_type": "markdown",
   "metadata": {},
   "source": [
    "## 创建矩阵"
   ]
  },
  {
   "cell_type": "markdown",
   "metadata": {},
   "source": [
    "矩阵的定义： 矩阵是一个二维数组，其中的每一个元素被行索引和列索引来确定。例如，下面这个矩阵 $M$ 有三行和三列：\n",
    "\n",
    "$$\n",
    "M = \\begin{bmatrix}\n",
    "1 & 2 & 3 \\\\\n",
    "4 & 5 & 6 \\\\\n",
    "7 & 8 & 9\n",
    "\\end{bmatrix}\n",
    "$$"
   ]
  },
  {
   "cell_type": "code",
   "execution_count": null,
   "metadata": {},
   "outputs": [],
   "source": [
    "import numpy as np\n",
    "\n",
    "#从二维数组来创建numpy矩阵\n",
    "M = np.array([  [1, 2, 3], \n",
    "                [4, 5, 6], \n",
    "                [7, 8, 9]])"
   ]
  },
  {
   "cell_type": "code",
   "execution_count": null,
   "metadata": {},
   "outputs": [],
   "source": [
    "# 创建一些特殊的numpy矩阵\n",
    "\n",
    "print(np.ones((3,2)))  # 3x2的全1矩阵\n",
    "\n",
    "print(np.zeros((3,2))) # 3x2的全0矩阵\n",
    "\n",
    "print(np.random.random((3,2))) # 3x2的随机矩阵\n",
    "\n",
    "print(np.diag([1, 2, 3])) # 对角矩阵\n",
    "\n",
    "print(np.eye(3)) # 单位矩阵"
   ]
  },
  {
   "cell_type": "markdown",
   "metadata": {},
   "source": [
    "### 练习3.1"
   ]
  },
  {
   "cell_type": "markdown",
   "metadata": {},
   "source": [
    "- 创建一个矩阵 $A$，使得 $B$ 有两行和四列，其中的元素为 $1, 2, 3, 4, 5, 6, 7, 8$。\n",
    "- 创建任意形状的全零矩阵和全一矩阵。\n",
    "- 创建对角矩阵，对角线上的元素为 $2, 3, 5$。\n",
    "- 创建2*2的单位矩阵。"
   ]
  },
  {
   "cell_type": "code",
   "execution_count": null,
   "metadata": {},
   "outputs": [],
   "source": []
  },
  {
   "cell_type": "markdown",
   "metadata": {},
   "source": [
    "## 矩阵的加法和减法"
   ]
  },
  {
   "cell_type": "markdown",
   "metadata": {},
   "source": [
    "相同形状的矩阵可以直接相加或相减。"
   ]
  },
  {
   "cell_type": "code",
   "execution_count": 6,
   "metadata": {},
   "outputs": [
    {
     "name": "stdout",
     "output_type": "stream",
     "text": [
      "A + B = \n",
      " [[ 6  8]\n",
      " [10 12]] \n",
      "\n",
      "A - B = \n",
      " [[-4 -4]\n",
      " [-4 -4]]\n"
     ]
    }
   ],
   "source": [
    "import numpy as np\n",
    "\n",
    "A = np.array([[1, 2], [3, 4]])\n",
    "B = np.array([[5, 6], [7, 8]])\n",
    "print(f'A + B = \\n {A + B} \\n') # 矩阵加法\n",
    "print(f'A - B = \\n {A - B}') # 矩阵减法"
   ]
  },
  {
   "cell_type": "markdown",
   "metadata": {},
   "source": [
    "矩阵和一个标量相加或者相减，会广播到矩阵的每一个元素。"
   ]
  },
  {
   "cell_type": "code",
   "execution_count": 7,
   "metadata": {},
   "outputs": [
    {
     "name": "stdout",
     "output_type": "stream",
     "text": [
      "[[2 3]\n",
      " [4 5]]\n"
     ]
    }
   ],
   "source": [
    "print(A + 1)"
   ]
  },
  {
   "cell_type": "markdown",
   "metadata": {},
   "source": [
    "矩阵可以和一个向量相加或者相减，然后向量会被广播到矩阵的每一行。相加时需要矩阵和向量的列数相同。"
   ]
  },
  {
   "cell_type": "markdown",
   "metadata": {},
   "source": [
    "<img src=\"./img/2023-10-27-12-04-55.png\" width=\"750\" height=\"200\" alt=\"矩阵与向量相加\">"
   ]
  },
  {
   "cell_type": "code",
   "execution_count": 3,
   "metadata": {},
   "outputs": [
    {
     "name": "stdout",
     "output_type": "stream",
     "text": [
      "[[2 3]\n",
      " [4 5]\n",
      " [6 7]]\n"
     ]
    }
   ],
   "source": [
    "import numpy as np\n",
    "\n",
    "data = np.array([[1, 2], [3, 4], [5, 6]])\n",
    "print(data + np.array([1, 1]))"
   ]
  },
  {
   "cell_type": "markdown",
   "metadata": {},
   "source": [
    "### 练习3.2"
   ]
  },
  {
   "cell_type": "markdown",
   "metadata": {},
   "source": [
    "- 创建两个矩阵 $A$ 和 $B$，使得 $A$ 和 $B$ 的形状都是 $2 \\times 3$，然后计算 $A + B$ 和 $A - B$。\n",
    "- 计算矩阵 $A$ 和标量 $2$ 的和以及差。\n",
    "- 计算矩阵 $A$ 和向量 $[1, 2, 3]$ 的和以及差。"
   ]
  },
  {
   "cell_type": "code",
   "execution_count": null,
   "metadata": {},
   "outputs": [],
   "source": []
  },
  {
   "cell_type": "markdown",
   "metadata": {},
   "source": [
    "## 矩阵的乘法"
   ]
  },
  {
   "cell_type": "markdown",
   "metadata": {},
   "source": [
    "矩阵乘以一个标量,这是矩阵的数乘。"
   ]
  },
  {
   "cell_type": "code",
   "execution_count": 4,
   "metadata": {},
   "outputs": [
    {
     "name": "stdout",
     "output_type": "stream",
     "text": [
      "[[2 4]\n",
      " [6 8]]\n"
     ]
    }
   ],
   "source": [
    "import numpy as np\n",
    "\n",
    "A = np.array([[1, 2], [3, 4]])\n",
    "print(A * 2) # 矩阵数乘"
   ]
  },
  {
   "cell_type": "markdown",
   "metadata": {},
   "source": [
    "矩阵的乘法：两个矩阵相乘或者一个矩阵乘以一个向量。维度必须匹配：第一个矩阵的列数必须等于第二个矩阵的行数。"
   ]
  },
  {
   "cell_type": "markdown",
   "metadata": {},
   "source": [
    "![dot product](./img/2023-10-27-13-11-55.png)"
   ]
  },
  {
   "cell_type": "code",
   "execution_count": 7,
   "metadata": {},
   "outputs": [
    {
     "name": "stdout",
     "output_type": "stream",
     "text": [
      "[ 30201 302010]\n",
      "[ 30201 302010]\n"
     ]
    }
   ],
   "source": [
    "import numpy as np\n",
    "\n",
    "data = np.array([1, 2, 3])\n",
    "powers_of_ten = np.array([[1, 10], [100, 1000], [10000, 100000]]) \n",
    "\n",
    "#有两种方法来调用矩阵乘法\n",
    "print(data.dot(powers_of_ten))\n",
    "print(data @ powers_of_ten)"
   ]
  },
  {
   "cell_type": "markdown",
   "metadata": {},
   "source": [
    "## 矩阵的转置"
   ]
  },
  {
   "cell_type": "markdown",
   "metadata": {},
   "source": [
    "## 单位矩阵与逆矩阵"
   ]
  },
  {
   "cell_type": "markdown",
   "metadata": {},
   "source": [
    "## 矩阵的维度（dimension）与秩（rank）"
   ]
  },
  {
   "cell_type": "markdown",
   "metadata": {},
   "source": [
    "## 线性相关与线性无关"
   ]
  },
  {
   "cell_type": "markdown",
   "metadata": {},
   "source": [
    "## 线性变换"
   ]
  }
 ],
 "metadata": {
  "kernelspec": {
   "display_name": "Python 3 (ipykernel)",
   "language": "python",
   "name": "python3"
  },
  "language_info": {
   "codemirror_mode": {
    "name": "ipython",
    "version": 3
   },
   "file_extension": ".py",
   "mimetype": "text/x-python",
   "name": "python",
   "nbconvert_exporter": "python",
   "pygments_lexer": "ipython3",
   "version": "3.12.0"
  }
 },
 "nbformat": 4,
 "nbformat_minor": 2
}
